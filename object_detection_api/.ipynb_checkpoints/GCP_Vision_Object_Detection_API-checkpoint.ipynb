{
 "cells": [
  {
   "cell_type": "code",
   "execution_count": 1,
   "metadata": {},
   "outputs": [],
   "source": [
    "from google.cloud import vision_v1p3beta1 as vision"
   ]
  },
  {
   "cell_type": "code",
   "execution_count": null,
   "metadata": {},
   "outputs": [],
   "source": []
  },
  {
   "cell_type": "code",
   "execution_count": 11,
   "metadata": {},
   "outputs": [],
   "source": [
    "#Provide path to local image\n",
    "path= \"./images/home12.jpg\""
   ]
  },
  {
   "cell_type": "code",
   "execution_count": 18,
   "metadata": {},
   "outputs": [],
   "source": [
    "def localize_objects(path):\n",
    "    \"\"\"Localize objects in the local image.\n",
    "\n",
    "    Args:\n",
    "    path: The path to the local file.\n",
    "    \"\"\"\n",
    "    from google.cloud import vision_v1p3beta1 as vision\n",
    "    client = vision.ImageAnnotatorClient()\n",
    "\n",
    "    with open(path, 'rb') as image_file:\n",
    "        content = image_file.read()\n",
    "    image = vision.types.Image(content=content)\n",
    "\n",
    "    objects = client.object_localization(\n",
    "        image=image).localized_object_annotations\n",
    "\n",
    "    print('Number of objects found: {}'.format(len(objects)))\n",
    "    for object_ in objects:\n",
    "        print('\\n{} (confidence: {})'.format(object_.name, object_.score))\n",
    "        print('Normalized bounding polygon vertices: ')\n",
    "        for vertex in object_.bounding_poly.normalized_vertices:\n",
    "            print(' - ({}, {})'.format(vertex.x, vertex.y))\n",
    "    "
   ]
  },
  {
   "cell_type": "code",
   "execution_count": 19,
   "metadata": {},
   "outputs": [
    {
     "name": "stderr",
     "output_type": "stream",
     "text": [
      "/Users/jasmeetbhatia/anaconda3/envs/test1/lib/python3.6/site-packages/google/auth/_default.py:66: UserWarning: Your application has authenticated using end user credentials from Google Cloud SDK. We recommend that most server applications use service accounts instead. If your application continues to use end user credentials from Cloud SDK, you might receive a \"quota exceeded\" or \"API not enabled\" error. For more information about service accounts, see https://cloud.google.com/docs/authentication/.\n",
      "  warnings.warn(_CLOUD_SDK_CREDENTIALS_WARNING)\n"
     ]
    },
    {
     "name": "stdout",
     "output_type": "stream",
     "text": [
      "Number of objects found: 9\n",
      "\n",
      "Stool (confidence: 0.8294580578804016)\n",
      "Normalized bounding polygon vertices: \n",
      " - (0.3915987014770508, 0.6423498392105103)\n",
      " - (0.5440793037414551, 0.6423498392105103)\n",
      " - (0.5440793037414551, 0.9821704030036926)\n",
      " - (0.3915987014770508, 0.9821704030036926)\n",
      "\n",
      "Lighting (confidence: 0.8036156296730042)\n",
      "Normalized bounding polygon vertices: \n",
      " - (0.5064221620559692, 0.002763694152235985)\n",
      " - (0.6190763711929321, 0.002763694152235985)\n",
      " - (0.6190763711929321, 0.19089573621749878)\n",
      " - (0.5064221620559692, 0.19089573621749878)\n",
      "\n",
      "Stool (confidence: 0.7926743626594543)\n",
      "Normalized bounding polygon vertices: \n",
      " - (0.16016927361488342, 0.6343385577201843)\n",
      " - (0.3487718999385834, 0.6343385577201843)\n",
      " - (0.3487718999385834, 1.0)\n",
      " - (0.16016927361488342, 1.0)\n",
      "\n",
      "Stool (confidence: 0.7456750869750977)\n",
      "Normalized bounding polygon vertices: \n",
      " - (0.5841692686080933, 0.6333974003791809)\n",
      " - (0.7506543397903442, 0.6333974003791809)\n",
      " - (0.7506543397903442, 1.0)\n",
      " - (0.5841692686080933, 1.0)\n",
      "\n",
      "Lighting (confidence: 0.7331486940383911)\n",
      "Normalized bounding polygon vertices: \n",
      " - (0.21220536530017853, 0.0037048738449811935)\n",
      " - (0.32909494638442993, 0.0037048738449811935)\n",
      " - (0.32909494638442993, 0.19654278457164764)\n",
      " - (0.21220536530017853, 0.19654278457164764)\n",
      "\n",
      "Stool (confidence: 0.7204123735427856)\n",
      "Normalized bounding polygon vertices: \n",
      " - (0.782757580280304, 0.6371620893478394)\n",
      " - (0.9723013639450073, 0.6371620893478394)\n",
      " - (0.9723013639450073, 1.0)\n",
      " - (0.782757580280304, 1.0)\n",
      "\n",
      "Lighting (confidence: 0.6703251600265503)\n",
      "Normalized bounding polygon vertices: \n",
      " - (0.8010351657867432, 0.00041075050830841064)\n",
      " - (0.9056893587112427, 0.00041075050830841064)\n",
      " - (0.9056893587112427, 0.19889573752880096)\n",
      " - (0.8010351657867432, 0.19889573752880096)\n",
      "\n",
      "Furniture (confidence: 0.6579020023345947)\n",
      "Normalized bounding polygon vertices: \n",
      " - (0.782757580280304, 0.6371620893478394)\n",
      " - (0.9723013639450073, 0.6371620893478394)\n",
      " - (0.9723013639450073, 1.0)\n",
      " - (0.782757580280304, 1.0)\n",
      "\n",
      "Furniture (confidence: 0.583583652973175)\n",
      "Normalized bounding polygon vertices: \n",
      " - (0.5841692686080933, 0.6333974003791809)\n",
      " - (0.7506543397903442, 0.6333974003791809)\n",
      " - (0.7506543397903442, 1.0)\n",
      " - (0.5841692686080933, 1.0)\n"
     ]
    }
   ],
   "source": [
    "#Make call to cloud Vision API\n",
    "localize_objects(path)\n",
    "#objects"
   ]
  },
  {
   "cell_type": "code",
   "execution_count": null,
   "metadata": {},
   "outputs": [],
   "source": []
  },
  {
   "cell_type": "code",
   "execution_count": null,
   "metadata": {},
   "outputs": [],
   "source": [
    "def localize_objects_uri(uri):\n",
    "    \"\"\"Localize objects in the image on Google Cloud Storage\n",
    "\n",
    "    Args:\n",
    "    uri: The path to the file in Google Cloud Storage (gs://...)\n",
    "    \"\"\"\n",
    "    from google.cloud import vision_v1p3beta1 as vision\n",
    "    client = vision.ImageAnnotatorClient()\n",
    "\n",
    "    image = vision.types.Image()\n",
    "    image.source.image_uri = uri\n",
    "\n",
    "    objects = client.object_localization(\n",
    "        image=image).localized_object_annotations\n",
    "\n",
    "    print('Number of objects found: {}'.format(len(objects)))\n",
    "    for object_ in objects:\n",
    "        print('\\n{} (confidence: {})'.format(object_.name, object_.score))\n",
    "        print('Normalized bounding polygon vertices: ')\n",
    "        for vertex in object_.bounding_poly.normalized_vertices:\n",
    "            print(' - ({}, {})'.format(vertex.x, vertex.y))"
   ]
  }
 ],
 "metadata": {
  "kernelspec": {
   "display_name": "Python [conda env:test1]",
   "language": "python",
   "name": "conda-env-test1-py"
  },
  "language_info": {
   "codemirror_mode": {
    "name": "ipython",
    "version": 3
   },
   "file_extension": ".py",
   "mimetype": "text/x-python",
   "name": "python",
   "nbconvert_exporter": "python",
   "pygments_lexer": "ipython3",
   "version": "3.6.6"
  }
 },
 "nbformat": 4,
 "nbformat_minor": 2
}
