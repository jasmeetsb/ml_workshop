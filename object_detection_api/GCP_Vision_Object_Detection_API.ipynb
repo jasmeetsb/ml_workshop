{
 "cells": [
  {
   "cell_type": "code",
   "execution_count": 1,
   "metadata": {},
   "outputs": [],
   "source": [
    "from google.cloud import vision_v1p3beta1 as vision"
   ]
  },
  {
   "cell_type": "code",
   "execution_count": null,
   "metadata": {},
   "outputs": [],
   "source": []
  },
  {
   "cell_type": "code",
   "execution_count": 12,
   "metadata": {},
   "outputs": [],
   "source": [
    "#Provide path to local image\n",
    "path= \"./images/home14.jpeg\""
   ]
  },
  {
   "cell_type": "code",
   "execution_count": 13,
   "metadata": {},
   "outputs": [],
   "source": [
    "def localize_objects(path):\n",
    "    \"\"\"Localize objects in the local image.\n",
    "\n",
    "    Args:\n",
    "    path: The path to the local file.\n",
    "    \"\"\"\n",
    "    from google.cloud import vision_v1p3beta1 as vision\n",
    "    client = vision.ImageAnnotatorClient()\n",
    "\n",
    "    with open(path, 'rb') as image_file:\n",
    "        content = image_file.read()\n",
    "    image = vision.types.Image(content=content)\n",
    "\n",
    "    objects = client.object_localization(\n",
    "        image=image).localized_object_annotations\n",
    "\n",
    "    print('Number of objects found: {}'.format(len(objects)))\n",
    "    for object_ in objects:\n",
    "        print('\\n{} (confidence: {})'.format(object_.name, object_.score))\n",
    "        print('Normalized bounding polygon vertices: ')\n",
    "        for vertex in object_.bounding_poly.normalized_vertices:\n",
    "            print(' - ({}, {})'.format(vertex.x, vertex.y))\n",
    "    "
   ]
  },
  {
   "cell_type": "code",
   "execution_count": 14,
   "metadata": {},
   "outputs": [
    {
     "name": "stderr",
     "output_type": "stream",
     "text": [
      "/Users/jasmeetbhatia/anaconda3/envs/tf19/lib/python3.6/site-packages/google/auth/_default.py:66: UserWarning: Your application has authenticated using end user credentials from Google Cloud SDK. We recommend that most server applications use service accounts instead. If your application continues to use end user credentials from Cloud SDK, you might receive a \"quota exceeded\" or \"API not enabled\" error. For more information about service accounts, see https://cloud.google.com/docs/authentication/.\n",
      "  warnings.warn(_CLOUD_SDK_CREDENTIALS_WARNING)\n"
     ]
    },
    {
     "name": "stdout",
     "output_type": "stream",
     "text": [
      "Number of objects found: 4\n",
      "\n",
      "Kitchenware (confidence: 0.7709696292877197)\n",
      "Normalized bounding polygon vertices: \n",
      " - (0.4145222306251526, 0.5159856081008911)\n",
      " - (0.6605366468429565, 0.5159856081008911)\n",
      " - (0.6605366468429565, 0.9430732131004333)\n",
      " - (0.4145222306251526, 0.9430732131004333)\n",
      "\n",
      "Cabinetry (confidence: 0.7228418588638306)\n",
      "Normalized bounding polygon vertices: \n",
      " - (0.05976469814777374, 0.5400000214576721)\n",
      " - (0.43176472187042236, 0.5400000214576721)\n",
      " - (0.43176472187042236, 0.9232941269874573)\n",
      " - (0.05976469814777374, 0.9232941269874573)\n",
      "\n",
      "Kitchen appliance (confidence: 0.6488087177276611)\n",
      "Normalized bounding polygon vertices: \n",
      " - (0.4145222306251526, 0.5159856081008911)\n",
      " - (0.6605366468429565, 0.5159856081008911)\n",
      " - (0.6605366468429565, 0.9430732131004333)\n",
      " - (0.4145222306251526, 0.9430732131004333)\n",
      "\n",
      "Home appliance (confidence: 0.6424269080162048)\n",
      "Normalized bounding polygon vertices: \n",
      " - (0.4145222306251526, 0.5159856081008911)\n",
      " - (0.6605366468429565, 0.5159856081008911)\n",
      " - (0.6605366468429565, 0.9430732131004333)\n",
      " - (0.4145222306251526, 0.9430732131004333)\n"
     ]
    }
   ],
   "source": [
    "#Make call to cloud Vision API\n",
    "localize_objects(path)\n",
    "#objects"
   ]
  },
  {
   "cell_type": "code",
   "execution_count": null,
   "metadata": {},
   "outputs": [],
   "source": []
  },
  {
   "cell_type": "code",
   "execution_count": null,
   "metadata": {},
   "outputs": [],
   "source": [
    "def localize_objects_uri(uri):\n",
    "    \"\"\"Localize objects in the image on Google Cloud Storage\n",
    "\n",
    "    Args:\n",
    "    uri: The path to the file in Google Cloud Storage (gs://...)\n",
    "    \"\"\"\n",
    "    from google.cloud import vision_v1p3beta1 as vision\n",
    "    client = vision.ImageAnnotatorClient()\n",
    "\n",
    "    image = vision.types.Image()\n",
    "    image.source.image_uri = uri\n",
    "\n",
    "    objects = client.object_localization(\n",
    "        image=image).localized_object_annotations\n",
    "\n",
    "    print('Number of objects found: {}'.format(len(objects)))\n",
    "    for object_ in objects:\n",
    "        print('\\n{} (confidence: {})'.format(object_.name, object_.score))\n",
    "        print('Normalized bounding polygon vertices: ')\n",
    "        for vertex in object_.bounding_poly.normalized_vertices:\n",
    "            print(' - ({}, {})'.format(vertex.x, vertex.y))"
   ]
  }
 ],
 "metadata": {
  "kernelspec": {
   "display_name": "Python [default]",
   "language": "python",
   "name": "python3"
  },
  "language_info": {
   "codemirror_mode": {
    "name": "ipython",
    "version": 3
   },
   "file_extension": ".py",
   "mimetype": "text/x-python",
   "name": "python",
   "nbconvert_exporter": "python",
   "pygments_lexer": "ipython3",
   "version": "3.6.4"
  }
 },
 "nbformat": 4,
 "nbformat_minor": 2
}
