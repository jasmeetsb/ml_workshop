{
 "cells": [
  {
   "cell_type": "markdown",
   "metadata": {},
   "source": [
    "# Overview"
   ]
  },
  {
   "cell_type": "markdown",
   "metadata": {},
   "source": [
    "This example demonstrates the use `tf.feature_column.crossed_column` on some simulated Atlanta housing price data. \n",
    "This spatial data is used primarily so the results can be easily visualized. \n",
    "\n",
    "These functions are designed primarily for categorical data, not to build interpolation tables. \n",
    "\n",
    "If you actually want to build smart interpolation tables in TensorFlow you may want to consider [TensorFlow Lattice](https://research.googleblog.com/2017/10/tensorflow-lattice-flexibility.html)."
   ]
  },
  {
   "cell_type": "markdown",
   "metadata": {
    "colab_type": "text",
    "id": "yEHBFimYk-Mu"
   },
   "source": [
    "# Imports"
   ]
  },
  {
   "cell_type": "code",
   "execution_count": 1,
   "metadata": {
    "colab": {
     "autoexec": {
      "startup": false,
      "wait_interval": 0
     }
    },
    "colab_type": "code",
    "id": "DiAklWTFk-My"
   },
   "outputs": [
    {
     "name": "stderr",
     "output_type": "stream",
     "text": [
      "/Users/jasmeetbhatia/anaconda3/envs/tf19/lib/python3.6/importlib/_bootstrap.py:219: RuntimeWarning: numpy.dtype size changed, may indicate binary incompatibility. Expected 96, got 88\n",
      "  return f(*args, **kwds)\n",
      "/Users/jasmeetbhatia/anaconda3/envs/tf19/lib/python3.6/importlib/_bootstrap.py:219: RuntimeWarning: numpy.dtype size changed, may indicate binary incompatibility. Expected 96, got 88\n",
      "  return f(*args, **kwds)\n",
      "/Users/jasmeetbhatia/anaconda3/envs/tf19/lib/python3.6/importlib/_bootstrap.py:219: RuntimeWarning: numpy.dtype size changed, may indicate binary incompatibility. Expected 96, got 88\n",
      "  return f(*args, **kwds)\n"
     ]
    }
   ],
   "source": [
    "import os\n",
    "import subprocess\n",
    "import tempfile\n",
    "\n",
    "import tensorflow as tf\n",
    "import numpy as np\n",
    "import matplotlib as mpl\n",
    "import matplotlib.pyplot as plt"
   ]
  },
  {
   "cell_type": "code",
   "execution_count": 2,
   "metadata": {
    "colab": {
     "autoexec": {
      "startup": false,
      "wait_interval": 0
     }
    },
    "colab_type": "code",
    "id": "fHqxuCUu8Bvm"
   },
   "outputs": [],
   "source": [
    "assert tf.VERSION.split('.') >= ['1','4']"
   ]
  },
  {
   "cell_type": "code",
   "execution_count": 3,
   "metadata": {},
   "outputs": [],
   "source": [
    "%matplotlib inline\n",
    "mpl.rcParams['figure.figsize'] = 12, 6\n",
    "mpl.rcParams['image.cmap'] = 'viridis'"
   ]
  },
  {
   "cell_type": "code",
   "execution_count": 4,
   "metadata": {
    "colab": {
     "autoexec": {
      "startup": false,
      "wait_interval": 0
     }
    },
    "colab_type": "code",
    "id": "Oj4Jv4Pik-M1"
   },
   "outputs": [],
   "source": [
    "logdir = tempfile.mkdtemp()"
   ]
  },
  {
   "cell_type": "code",
   "execution_count": 5,
   "metadata": {
    "colab": {
     "autoexec": {
      "startup": false,
      "wait_interval": 0
     },
     "output_extras": [
      {}
     ]
    },
    "colab_type": "code",
    "id": "cTrSkk1zmvO0",
    "outputId": "41532b3b-2bf8-4abb-bc46-a92c76fe70f8"
   },
   "outputs": [
    {
     "data": {
      "text/plain": [
       "'/var/folders/s3/bf5fc9dd1c30gzgwqf9_h55w00hby8/T/tmpfl899d6e'"
      ]
     },
     "execution_count": 5,
     "metadata": {},
     "output_type": "execute_result"
    }
   ],
   "source": [
    "logdir"
   ]
  },
  {
   "cell_type": "markdown",
   "metadata": {
    "colab_type": "text",
    "id": "p3me9zPGk-M3"
   },
   "source": [
    "# Start TensorBoard\n",
    "The following command will kill all running TensorBoard processes, and start a new one monitoring to the above logdir. "
   ]
  },
  {
   "cell_type": "code",
   "execution_count": 6,
   "metadata": {
    "colab": {
     "autoexec": {
      "startup": false,
      "wait_interval": 0
     },
     "base_uri": "https://localhost:8080/",
     "height": 34,
     "output_extras": [
      {}
     ]
    },
    "colab_type": "code",
    "executionInfo": {
     "elapsed": 327,
     "status": "ok",
     "timestamp": 1508962289209,
     "user": {
      "displayName": "Mark Daoust",
      "photoUrl": "//lh5.googleusercontent.com/-2bdrhkqhwhc/AAAAAAAAAAI/AAAAAAAAAYY/WEdKp4OXSFY/s50-c-k-no/photo.jpg",
      "userId": "106546680081284977106"
     },
     "user_tz": 240
    },
    "id": "umxoWdz9k-M3",
    "outputId": "e2d2af2f-e56f-4b5e-aa62-bd9119966b53"
   },
   "outputs": [
    {
     "data": {
      "text/plain": [
       "<subprocess.Popen at 0x18298167b8>"
      ]
     },
     "execution_count": 6,
     "metadata": {},
     "output_type": "execute_result"
    }
   ],
   "source": [
    "subprocess.Popen(['pkill','-f','tensorboard'])\n",
    "subprocess.Popen(['tensorboard', '--logdir', logdir])"
   ]
  },
  {
   "cell_type": "markdown",
   "metadata": {
    "colab_type": "text",
    "id": "WFYz5eg1k-M7"
   },
   "source": [
    "# Build Synthetic Data"
   ]
  },
  {
   "cell_type": "code",
   "execution_count": 7,
   "metadata": {
    "colab": {
     "autoexec": {
      "startup": false,
      "wait_interval": 0
     }
    },
    "colab_type": "code",
    "id": "F3ouYc9N9zW3"
   },
   "outputs": [],
   "source": [
    "# Define the grid\n",
    "min_latitude = 33.641336\n",
    "max_latitude = 33.887157\n",
    "delta_latitude = max_latitude-min_latitude\n",
    "\n",
    "min_longitude = -84.558798\n",
    "max_longitude = -84.287259\n",
    "delta_longitude = max_longitude-min_longitude\n",
    "\n",
    "resolution = 100"
   ]
  },
  {
   "cell_type": "code",
   "execution_count": 8,
   "metadata": {},
   "outputs": [],
   "source": [
    "# Use RandomState so the behavior is repeatable. \n",
    "R = np.random.RandomState(1)"
   ]
  },
  {
   "cell_type": "code",
   "execution_count": 9,
   "metadata": {
    "colab": {
     "autoexec": {
      "startup": false,
      "wait_interval": 0
     }
    },
    "colab_type": "code",
    "id": "JQ7wXpURk-M8"
   },
   "outputs": [],
   "source": [
    "# The price data will be a sum of Gaussians, at random locations.\n",
    "n_centers = 20\n",
    "centers = R.rand(n_centers, 2)  # shape: (centers, dimensions)"
   ]
  },
  {
   "cell_type": "code",
   "execution_count": 10,
   "metadata": {
    "colab": {
     "autoexec": {
      "startup": false,
      "wait_interval": 0
     }
    },
    "colab_type": "code",
    "id": "nR1wQiqSk-NA"
   },
   "outputs": [],
   "source": [
    "# Each Gaussian has a maximum price contribution, at the center.\n",
    "# Price_\n",
    "price_delta = 0.5+2*R.rand(n_centers)"
   ]
  },
  {
   "cell_type": "code",
   "execution_count": 11,
   "metadata": {
    "colab": {
     "autoexec": {
      "startup": false,
      "wait_interval": 0
     }
    },
    "colab_type": "code",
    "id": "rGX3j-DOk-NC"
   },
   "outputs": [],
   "source": [
    "# Each Gaussian also has a standard-deviation and variance.\n",
    "std = 0.2*R.rand(n_centers)  # shape: (centers)\n",
    "var = std**2"
   ]
  },
  {
   "cell_type": "code",
   "execution_count": 12,
   "metadata": {
    "colab": {
     "autoexec": {
      "startup": false,
      "wait_interval": 0
     }
    },
    "colab_type": "code",
    "id": "kWu2ba4Tk-NE"
   },
   "outputs": [],
   "source": [
    "def price(latitude, longitude):\n",
    "    # Convert latitude, longitude to x,y in [0,1]\n",
    "    x = (longitude - min_longitude)/delta_longitude\n",
    "    y = (latitude - min_latitude)/delta_latitude\n",
    "    \n",
    "    # Cache the shape, and flatten the inputs.\n",
    "    shape = x.shape\n",
    "    assert y.shape == x.shape\n",
    "    x = x.flatten()\n",
    "    y = y.flatten()\n",
    "    \n",
    "    # Convert x, y examples into an array with shape (examples, dimensions)\n",
    "    xy = np.array([x,y]).T\n",
    "\n",
    "    # Calculate the square distance from each example to each center.  \n",
    "    components2 = (xy[:,None,:] - centers[None,:,:])**2  # shape: (examples, centers, dimensions)\n",
    "    r2 = components2.sum(axis=2)  # shape: (examples, centers)\n",
    "    \n",
    "    # Calculate the z**2 for each example from each center.\n",
    "    z2 = r2/var[None,:]\n",
    "    price = (np.exp(-z2)*price_delta).sum(1)  # shape: (examples,)\n",
    "    \n",
    "    # Restore the original shape.\n",
    "    return price.reshape(shape)"
   ]
  },
  {
   "cell_type": "code",
   "execution_count": 13,
   "metadata": {
    "colab": {
     "autoexec": {
      "startup": false,
      "wait_interval": 0
     }
    },
    "colab_type": "code",
    "id": "BPoSndW8k-NG"
   },
   "outputs": [],
   "source": [
    "# Build the grid. We want `resolution` cells between `min` and `max` on each dimension\n",
    "# so we need `resolution+1` evenly spaced edges. The centers are at the average of the\n",
    "# upper and lower edge. \n",
    "\n",
    "latitude_edges = np.linspace(min_latitude, max_latitude, resolution+1)\n",
    "latitude_centers = (latitude_edges[:-1] + latitude_edges[1:])/2\n",
    "\n",
    "longitude_edges = np.linspace(min_longitude, max_longitude, resolution+1)\n",
    "longitude_centers = (longitude_edges[:-1] + longitude_edges[1:])/2\n",
    "\n",
    "latitude_grid, longitude_grid = np.meshgrid(\n",
    "    latitude_centers,\n",
    "    longitude_centers)"
   ]
  },
  {
   "cell_type": "code",
   "execution_count": 14,
   "metadata": {
    "colab": {
     "autoexec": {
      "startup": false,
      "wait_interval": 0
     },
     "output_extras": [
      {}
     ]
    },
    "colab_type": "code",
    "id": "0Y5fSCpWk-NI",
    "outputId": "35737491-93bd-4911-cb6e-8163849983a3"
   },
   "outputs": [
    {
     "data": {
      "text/plain": [
       "0.8754787233855683"
      ]
     },
     "execution_count": 14,
     "metadata": {},
     "output_type": "execute_result"
    }
   ],
   "source": [
    "# Evaluate the price at each center-point\n",
    "actual_price_grid = price(latitude_grid, longitude_grid)\n",
    "\n",
    "price_min = actual_price_grid.min()\n",
    "price_max = actual_price_grid.max()\n",
    "price_mean = actual_price_grid.mean()\n",
    "price_mean"
   ]
  },
  {
   "cell_type": "code",
   "execution_count": 15,
   "metadata": {
    "colab": {
     "autoexec": {
      "startup": false,
      "wait_interval": 0
     }
    },
    "colab_type": "code",
    "id": "wN2wMUOck-NK"
   },
   "outputs": [],
   "source": [
    "def show_price(price):\n",
    "    plt.imshow(\n",
    "        price, \n",
    "        # The color axis goes from `price_min` to `price_max`.\n",
    "        vmin=price_min, vmax=price_max,\n",
    "        # Put the image at the correct latitude and longitude.\n",
    "        extent=(min_longitude, max_longitude, min_latitude, max_latitude), \n",
    "        # Make the image square.\n",
    "        aspect = 1.0*delta_longitude/delta_latitude)"
   ]
  },
  {
   "cell_type": "code",
   "execution_count": 16,
   "metadata": {
    "colab": {
     "autoexec": {
      "startup": false,
      "wait_interval": 0
     },
     "base_uri": "https://localhost:8080/",
     "height": 592,
     "output_extras": [
      {}
     ]
    },
    "colab_type": "code",
    "executionInfo": {
     "elapsed": 678,
     "status": "ok",
     "timestamp": 1508962293265,
     "user": {
      "displayName": "Mark Daoust",
      "photoUrl": "//lh5.googleusercontent.com/-2bdrhkqhwhc/AAAAAAAAAAI/AAAAAAAAAYY/WEdKp4OXSFY/s50-c-k-no/photo.jpg",
      "userId": "106546680081284977106"
     },
     "user_tz": 240
    },
    "id": "FkHXxJGuAsC1",
    "outputId": "40bf2c0f-51b0-4026-a275-c3669e5366cc"
   },
   "outputs": [
    {
     "data": {
      "image/png": "[encoded data removed]",
      "text/plain": [
       "<Figure size 864x432 with 1 Axes>"
      ]
     },
     "metadata": {},
     "output_type": "display_data"
    }
   ],
   "source": [
    "show_price(actual_price_grid)"
   ]
  },
  {
   "cell_type": "markdown",
   "metadata": {
    "colab_type": "text",
    "id": "miDtqLRek-NM"
   },
   "source": [
    "# Build Datasets"
   ]
  },
  {
   "cell_type": "code",
   "execution_count": 17,
   "metadata": {
    "colab": {
     "autoexec": {
      "startup": false,
      "wait_interval": 0
     }
    },
    "colab_type": "code",
    "id": "zqBPKjBvk-NM"
   },
   "outputs": [],
   "source": [
    "# For test data we will use the grid centers.\n",
    "test_features = {'latitude':latitude_grid.flatten(), 'longitude':longitude_grid.flatten()}\n",
    "test_ds = tf.data.Dataset.from_tensor_slices((test_features, \n",
    "                                           actual_price_grid.flatten()))\n",
    "test_ds = test_ds.cache().batch(512).prefetch(1)\n",
    "\n",
    "# For training data we will use a set of random points.\n",
    "train_latitude = min_latitude + np.random.rand(50000)*delta_latitude\n",
    "train_longitude = min_longitude + np.random.rand(50000)*delta_longitude\n",
    "train_price = price(train_latitude, train_longitude)\n",
    "\n",
    "train_features = {'latitude':train_latitude, 'longitude':train_longitude}\n",
    "train_ds = tf.data.Dataset.from_tensor_slices((train_features, train_price))\n",
    "train_ds = train_ds.cache().repeat().shuffle(100000).batch(512).prefetch(1)\n",
    "\n",
    "# A shortcut to build an `input_fn` from a `Dataset`\n",
    "def in_fn(ds):\n",
    "    return lambda : ds.make_one_shot_iterator().get_next()\n"
   ]
  },
  {
   "cell_type": "markdown",
   "metadata": {
    "colab_type": "text",
    "id": "i-ToQzSqk-NO"
   },
   "source": [
    "# Generate a plot from an Estimator"
   ]
  },
  {
   "cell_type": "code",
   "execution_count": 18,
   "metadata": {
    "colab": {
     "autoexec": {
      "startup": false,
      "wait_interval": 0
     }
    },
    "colab_type": "code",
    "id": "N9NmQLUOk-NP"
   },
   "outputs": [],
   "source": [
    "def plot_est(est, ds = test_ds):\n",
    "    # Create two plot axes\n",
    "    actual, predicted = plt.subplot(1,2,1), plt.subplot(1,2,2)\n",
    "\n",
    "    # Plot the actual price.\n",
    "    plt.sca(actual)\n",
    "    show_price(actual_price_grid.reshape(resolution, resolution))\n",
    "    \n",
    "    # Generate predictions over the grid from the estimator.\n",
    "    pred =  est.predict(in_fn(ds))\n",
    "    # Convert them to a numpy array.\n",
    "    pred = np.fromiter((item['predictions'] for item in pred), np.float32)\n",
    "    # Plot the predictions on the secodn axis.\n",
    "    plt.sca(predicted)\n",
    "    show_price(pred.reshape(resolution, resolution))"
   ]
  },
  {
   "cell_type": "markdown",
   "metadata": {
    "colab_type": "text",
    "id": "gfgngu0lk-NQ"
   },
   "source": [
    "# Using `numeric_column` with DNNRegressor\n",
    "Important: Pure categorical data doesn't the spatial relationships that make this example possible. Embeddings are a way your model can learn spatial relationships."
   ]
  },
  {
   "cell_type": "code",
   "execution_count": 19,
   "metadata": {
    "colab": {
     "autoexec": {
      "startup": false,
      "wait_interval": 0
     },
     "base_uri": "https://localhost:8080/",
     "height": 2010,
     "output_extras": [
      {},
      {}
     ]
    },
    "colab_type": "code",
    "executionInfo": {
     "elapsed": 8234,
     "status": "ok",
     "timestamp": 1508962479411,
     "user": {
      "displayName": "Mark Daoust",
      "photoUrl": "//lh5.googleusercontent.com/-2bdrhkqhwhc/AAAAAAAAAAI/AAAAAAAAAYY/WEdKp4OXSFY/s50-c-k-no/photo.jpg",
      "userId": "106546680081284977106"
     },
     "user_tz": 240
    },
    "id": "On-_j4Jtk-NR",
    "outputId": "1c18ba56-7246-4096-c32d-822c2fe3dd36"
   },
   "outputs": [
    {
     "name": "stdout",
     "output_type": "stream",
     "text": [
      "INFO:tensorflow:Using default config.\n",
      "INFO:tensorflow:Using config: {'_model_dir': '/var/folders/s3/bf5fc9dd1c30gzgwqf9_h55w00hby8/T/tmpfl899d6e/DNN', '_tf_random_seed': None, '_save_summary_steps': 100, '_save_checkpoints_steps': None, '_save_checkpoints_secs': 600, '_session_config': None, '_keep_checkpoint_max': 5, '_keep_checkpoint_every_n_hours': 10000, '_log_step_count_steps': 100, '_train_distribute': None, '_device_fn': None, '_service': None, '_cluster_spec': <tensorflow.python.training.server_lib.ClusterSpec object at 0x1829f5a8d0>, '_task_type': 'worker', '_task_id': 0, '_global_id_in_cluster': 0, '_master': '', '_evaluation_master': '', '_is_chief': True, '_num_ps_replicas': 0, '_num_worker_replicas': 1}\n",
      "INFO:tensorflow:Calling model_fn.\n",
      "INFO:tensorflow:Done calling model_fn.\n",
      "INFO:tensorflow:Create CheckpointSaverHook.\n",
      "INFO:tensorflow:Graph was finalized.\n",
      "INFO:tensorflow:Running local_init_op.\n",
      "INFO:tensorflow:Done running local_init_op.\n",
      "INFO:tensorflow:Saving checkpoints for 0 into /var/folders/s3/bf5fc9dd1c30gzgwqf9_h55w00hby8/T/tmpfl899d6e/DNN/model.ckpt.\n",
      "INFO:tensorflow:loss = 724.35895, step = 1\n",
      "INFO:tensorflow:global_step/sec: 406.898\n",
      "INFO:tensorflow:loss = 130.92232, step = 101 (0.247 sec)\n",
      "INFO:tensorflow:global_step/sec: 544.161\n",
      "INFO:tensorflow:loss = 93.35069, step = 201 (0.184 sec)\n",
      "INFO:tensorflow:global_step/sec: 587.897\n",
      "INFO:tensorflow:loss = 99.10599, step = 301 (0.170 sec)\n",
      "INFO:tensorflow:global_step/sec: 594.368\n",
      "INFO:tensorflow:loss = 75.35308, step = 401 (0.168 sec)\n",
      "INFO:tensorflow:global_step/sec: 519.367\n",
      "INFO:tensorflow:loss = 82.80916, step = 501 (0.193 sec)\n",
      "INFO:tensorflow:global_step/sec: 539.668\n",
      "INFO:tensorflow:loss = 72.17911, step = 601 (0.185 sec)\n",
      "INFO:tensorflow:global_step/sec: 616.93\n",
      "INFO:tensorflow:loss = 67.19974, step = 701 (0.162 sec)\n",
      "INFO:tensorflow:global_step/sec: 606.286\n",
      "INFO:tensorflow:loss = 61.627457, step = 801 (0.165 sec)\n",
      "INFO:tensorflow:global_step/sec: 588.242\n",
      "INFO:tensorflow:loss = 61.07035, step = 901 (0.170 sec)\n",
      "INFO:tensorflow:global_step/sec: 570.578\n",
      "INFO:tensorflow:loss = 51.9541, step = 1001 (0.175 sec)\n",
      "INFO:tensorflow:global_step/sec: 575.848\n",
      "INFO:tensorflow:loss = 57.079514, step = 1101 (0.174 sec)\n",
      "INFO:tensorflow:global_step/sec: 538.831\n",
      "INFO:tensorflow:loss = 58.987564, step = 1201 (0.186 sec)\n",
      "INFO:tensorflow:global_step/sec: 473.276\n",
      "INFO:tensorflow:loss = 42.01935, step = 1301 (0.211 sec)\n",
      "INFO:tensorflow:global_step/sec: 528.073\n",
      "INFO:tensorflow:loss = 55.32954, step = 1401 (0.190 sec)\n",
      "INFO:tensorflow:global_step/sec: 541.873\n",
      "INFO:tensorflow:loss = 45.31297, step = 1501 (0.185 sec)\n",
      "INFO:tensorflow:global_step/sec: 598.039\n",
      "INFO:tensorflow:loss = 47.032562, step = 1601 (0.172 sec)\n",
      "INFO:tensorflow:global_step/sec: 399.869\n",
      "INFO:tensorflow:loss = 37.808937, step = 1701 (0.247 sec)\n",
      "INFO:tensorflow:global_step/sec: 567.244\n",
      "INFO:tensorflow:loss = 30.534632, step = 1801 (0.175 sec)\n",
      "INFO:tensorflow:global_step/sec: 569.525\n",
      "INFO:tensorflow:loss = 31.100796, step = 1901 (0.176 sec)\n",
      "INFO:tensorflow:global_step/sec: 570.897\n",
      "INFO:tensorflow:loss = 41.611664, step = 2001 (0.175 sec)\n",
      "INFO:tensorflow:global_step/sec: 415.387\n",
      "INFO:tensorflow:loss = 44.5253, step = 2101 (0.243 sec)\n",
      "INFO:tensorflow:global_step/sec: 437.803\n",
      "INFO:tensorflow:loss = 28.287758, step = 2201 (0.227 sec)\n",
      "INFO:tensorflow:global_step/sec: 480.696\n",
      "INFO:tensorflow:loss = 25.058462, step = 2301 (0.207 sec)\n",
      "INFO:tensorflow:global_step/sec: 449.715\n",
      "INFO:tensorflow:loss = 27.151428, step = 2401 (0.222 sec)\n",
      "INFO:tensorflow:global_step/sec: 462.781\n",
      "INFO:tensorflow:loss = 18.420132, step = 2501 (0.216 sec)\n",
      "INFO:tensorflow:global_step/sec: 571.883\n",
      "INFO:tensorflow:loss = 22.023632, step = 2601 (0.175 sec)\n",
      "INFO:tensorflow:global_step/sec: 457.086\n",
      "INFO:tensorflow:loss = 21.50468, step = 2701 (0.219 sec)\n",
      "INFO:tensorflow:global_step/sec: 496.731\n",
      "INFO:tensorflow:loss = 17.60842, step = 2801 (0.200 sec)\n",
      "INFO:tensorflow:global_step/sec: 543.902\n",
      "INFO:tensorflow:loss = 16.6865, step = 2901 (0.184 sec)\n",
      "INFO:tensorflow:global_step/sec: 446.791\n",
      "INFO:tensorflow:loss = 11.445485, step = 3001 (0.224 sec)\n",
      "INFO:tensorflow:global_step/sec: 571.658\n",
      "INFO:tensorflow:loss = 16.138435, step = 3101 (0.175 sec)\n",
      "INFO:tensorflow:global_step/sec: 574.722\n",
      "INFO:tensorflow:loss = 14.998989, step = 3201 (0.174 sec)\n",
      "INFO:tensorflow:global_step/sec: 568.935\n",
      "INFO:tensorflow:loss = 13.126914, step = 3301 (0.176 sec)\n",
      "INFO:tensorflow:global_step/sec: 531.847\n",
      "INFO:tensorflow:loss = 17.406845, step = 3401 (0.188 sec)\n",
      "INFO:tensorflow:global_step/sec: 571.395\n",
      "INFO:tensorflow:loss = 23.742882, step = 3501 (0.175 sec)\n",
      "INFO:tensorflow:global_step/sec: 578.882\n",
      "INFO:tensorflow:loss = 12.135483, step = 3601 (0.173 sec)\n",
      "INFO:tensorflow:global_step/sec: 603.81\n",
      "INFO:tensorflow:loss = 9.789013, step = 3701 (0.165 sec)\n",
      "INFO:tensorflow:global_step/sec: 533.535\n",
      "INFO:tensorflow:loss = 8.813977, step = 3801 (0.189 sec)\n",
      "INFO:tensorflow:global_step/sec: 401.776\n",
      "INFO:tensorflow:loss = 11.859949, step = 3901 (0.248 sec)\n",
      "INFO:tensorflow:global_step/sec: 412.671\n",
      "INFO:tensorflow:loss = 8.703097, step = 4001 (0.242 sec)\n",
      "INFO:tensorflow:global_step/sec: 547.333\n",
      "INFO:tensorflow:loss = 10.804348, step = 4101 (0.183 sec)\n",
      "INFO:tensorflow:global_step/sec: 452.501\n",
      "INFO:tensorflow:loss = 8.319512, step = 4201 (0.222 sec)\n",
      "INFO:tensorflow:global_step/sec: 426.938\n",
      "INFO:tensorflow:loss = 8.896352, step = 4301 (0.233 sec)\n",
      "INFO:tensorflow:global_step/sec: 559.481\n",
      "INFO:tensorflow:loss = 6.260005, step = 4401 (0.179 sec)\n",
      "INFO:tensorflow:global_step/sec: 563.187\n",
      "INFO:tensorflow:loss = 8.77371, step = 4501 (0.177 sec)\n",
      "INFO:tensorflow:global_step/sec: 428.706\n",
      "INFO:tensorflow:loss = 9.572624, step = 4601 (0.233 sec)\n",
      "INFO:tensorflow:global_step/sec: 460.053\n",
      "INFO:tensorflow:loss = 7.686474, step = 4701 (0.219 sec)\n",
      "INFO:tensorflow:global_step/sec: 349.697\n",
      "INFO:tensorflow:loss = 7.939658, step = 4801 (0.285 sec)\n",
      "INFO:tensorflow:global_step/sec: 400.893\n",
      "INFO:tensorflow:loss = 6.4742136, step = 4901 (0.249 sec)\n",
      "INFO:tensorflow:Saving checkpoints for 5000 into /var/folders/s3/bf5fc9dd1c30gzgwqf9_h55w00hby8/T/tmpfl899d6e/DNN/model.ckpt.\n",
      "INFO:tensorflow:Loss for final step: 9.015463.\n",
      "INFO:tensorflow:Calling model_fn.\n",
      "INFO:tensorflow:Done calling model_fn.\n",
      "INFO:tensorflow:Starting evaluation at 2018-10-11-00:08:30\n",
      "INFO:tensorflow:Graph was finalized.\n",
      "INFO:tensorflow:Restoring parameters from /var/folders/s3/bf5fc9dd1c30gzgwqf9_h55w00hby8/T/tmpfl899d6e/DNN/model.ckpt-5000\n",
      "INFO:tensorflow:Running local_init_op.\n",
      "INFO:tensorflow:Done running local_init_op.\n",
      "INFO:tensorflow:Finished evaluation at 2018-10-11-00:08:30\n",
      "INFO:tensorflow:Saving dict for global step 5000: average_loss = 0.017020846, global_step = 5000, loss = 8.510423\n",
      "INFO:tensorflow:Saving 'checkpoint_path' summary for global step 5000: /var/folders/s3/bf5fc9dd1c30gzgwqf9_h55w00hby8/T/tmpfl899d6e/DNN/model.ckpt-5000\n"
     ]
    },
    {
     "data": {
      "text/plain": [
       "{'average_loss': 0.017020846, 'global_step': 5000, 'loss': 8.510423}"
      ]
     },
     "execution_count": 19,
     "metadata": {},
     "output_type": "execute_result"
    }
   ],
   "source": [
    "# Use `normalizer_fn` so that the model only sees values in [0, 1]\n",
    "norm_latitude = lambda latitude:(latitude-min_latitude)/delta_latitude - 0.5\n",
    "norm_longitude = lambda longitude:(longitude-min_longitude)/delta_longitude - 0.5\n",
    "\n",
    "fc = [tf.feature_column.numeric_column('latitude', normalizer_fn = norm_latitude), \n",
    "      tf.feature_column.numeric_column('longitude', normalizer_fn = norm_longitude)]\n",
    "\n",
    "# Build and train the Estimator\n",
    "est = tf.estimator.DNNRegressor(\n",
    "    hidden_units=[100,100], \n",
    "    feature_columns=fc, \n",
    "    model_dir = os.path.join(logdir,'DNN'))\n",
    "\n",
    "est.train(in_fn(train_ds), steps = 5000)\n",
    "est.evaluate(in_fn(test_ds))"
   ]
  },
  {
   "cell_type": "code",
   "execution_count": 20,
   "metadata": {
    "colab": {
     "autoexec": {
      "startup": false,
      "wait_interval": 0
     },
     "base_uri": "https://localhost:8080/",
     "height": 388,
     "output_extras": [
      {},
      {}
     ]
    },
    "colab_type": "code",
    "executionInfo": {
     "elapsed": 1002,
     "status": "ok",
     "timestamp": 1508962552800,
     "user": {
      "displayName": "Mark Daoust",
      "photoUrl": "//lh5.googleusercontent.com/-2bdrhkqhwhc/AAAAAAAAAAI/AAAAAAAAAYY/WEdKp4OXSFY/s50-c-k-no/photo.jpg",
      "userId": "106546680081284977106"
     },
     "user_tz": 240
    },
    "id": "WTcIX78Tk-NV",
    "outputId": "8d08be57-7c37-4268-e38a-9675978567ff"
   },
   "outputs": [
    {
     "name": "stdout",
     "output_type": "stream",
     "text": [
      "INFO:tensorflow:Calling model_fn.\n",
      "INFO:tensorflow:Done calling model_fn.\n",
      "INFO:tensorflow:Graph was finalized.\n",
      "INFO:tensorflow:Restoring parameters from /var/folders/s3/bf5fc9dd1c30gzgwqf9_h55w00hby8/T/tmpsti2u_y_/DNN/model.ckpt-5000\n",
      "INFO:tensorflow:Running local_init_op.\n",
      "INFO:tensorflow:Done running local_init_op.\n"
     ]
    },
    {
     "data": {
      "image/png": "[encoded data removed]",
      "text/plain": [
       "<Figure size 864x432 with 2 Axes>"
      ]
     },
     "metadata": {},
     "output_type": "display_data"
    }
   ],
   "source": [
    "plot_est(est)"
   ]
  },
  {
   "cell_type": "markdown",
   "metadata": {
    "colab_type": "text",
    "id": "WIlTd5VEk-NZ"
   },
   "source": [
    "# Using `bucketized_column`"
   ]
  },
  {
   "cell_type": "code",
   "execution_count": 21,
   "metadata": {
    "colab": {
     "autoexec": {
      "startup": false,
      "wait_interval": 0
     },
     "base_uri": "https://localhost:8080/",
     "height": 2010,
     "output_extras": [
      {},
      {}
     ]
    },
    "colab_type": "code",
    "executionInfo": {
     "elapsed": 9805,
     "status": "ok",
     "timestamp": 1508962565572,
     "user": {
      "displayName": "Mark Daoust",
      "photoUrl": "//lh5.googleusercontent.com/-2bdrhkqhwhc/AAAAAAAAAAI/AAAAAAAAAYY/WEdKp4OXSFY/s50-c-k-no/photo.jpg",
      "userId": "106546680081284977106"
     },
     "user_tz": 240
    },
    "id": "NdKt4g2Kk-NZ",
    "outputId": "a72e8a55-0239-4b42-e66b-a57ba79fb47b"
   },
   "outputs": [
    {
     "name": "stdout",
     "output_type": "stream",
     "text": [
      "INFO:tensorflow:Using default config.\n",
      "INFO:tensorflow:Using config: {'_model_dir': '/var/folders/s3/bf5fc9dd1c30gzgwqf9_h55w00hby8/T/tmpsti2u_y_/separable', '_tf_random_seed': None, '_save_summary_steps': 100, '_save_checkpoints_steps': None, '_save_checkpoints_secs': 600, '_session_config': None, '_keep_checkpoint_max': 5, '_keep_checkpoint_every_n_hours': 10000, '_log_step_count_steps': 100, '_train_distribute': None, '_device_fn': None, '_service': None, '_cluster_spec': <tensorflow.python.training.server_lib.ClusterSpec object at 0x182422f860>, '_task_type': 'worker', '_task_id': 0, '_global_id_in_cluster': 0, '_master': '', '_evaluation_master': '', '_is_chief': True, '_num_ps_replicas': 0, '_num_worker_replicas': 1}\n",
      "INFO:tensorflow:Calling model_fn.\n",
      "INFO:tensorflow:Done calling model_fn.\n",
      "INFO:tensorflow:Create CheckpointSaverHook.\n",
      "INFO:tensorflow:Graph was finalized.\n",
      "INFO:tensorflow:Running local_init_op.\n",
      "INFO:tensorflow:Done running local_init_op.\n",
      "INFO:tensorflow:Saving checkpoints for 0 into /var/folders/s3/bf5fc9dd1c30gzgwqf9_h55w00hby8/T/tmpsti2u_y_/separable/model.ckpt.\n",
      "INFO:tensorflow:loss = 696.8181, step = 1\n",
      "INFO:tensorflow:global_step/sec: 355.178\n",
      "INFO:tensorflow:loss = 125.328125, step = 101 (0.283 sec)\n",
      "INFO:tensorflow:global_step/sec: 849.395\n",
      "INFO:tensorflow:loss = 126.450264, step = 201 (0.117 sec)\n",
      "INFO:tensorflow:global_step/sec: 764.759\n",
      "INFO:tensorflow:loss = 110.51531, step = 301 (0.131 sec)\n",
      "INFO:tensorflow:global_step/sec: 206.809\n",
      "INFO:tensorflow:loss = 126.02254, step = 401 (0.484 sec)\n",
      "INFO:tensorflow:global_step/sec: 632.454\n",
      "INFO:tensorflow:loss = 130.5021, step = 501 (0.158 sec)\n",
      "INFO:tensorflow:global_step/sec: 633.276\n",
      "INFO:tensorflow:loss = 122.07117, step = 601 (0.158 sec)\n",
      "INFO:tensorflow:global_step/sec: 717.776\n",
      "INFO:tensorflow:loss = 130.35835, step = 701 (0.139 sec)\n",
      "INFO:tensorflow:global_step/sec: 714.128\n",
      "INFO:tensorflow:loss = 129.19601, step = 801 (0.140 sec)\n",
      "INFO:tensorflow:global_step/sec: 704.653\n",
      "INFO:tensorflow:loss = 126.13981, step = 901 (0.142 sec)\n",
      "INFO:tensorflow:global_step/sec: 717.37\n",
      "INFO:tensorflow:loss = 119.64101, step = 1001 (0.139 sec)\n",
      "INFO:tensorflow:global_step/sec: 730.796\n",
      "INFO:tensorflow:loss = 136.54453, step = 1101 (0.137 sec)\n",
      "INFO:tensorflow:global_step/sec: 810.63\n",
      "INFO:tensorflow:loss = 120.98903, step = 1201 (0.123 sec)\n",
      "INFO:tensorflow:global_step/sec: 642.594\n",
      "INFO:tensorflow:loss = 125.93708, step = 1301 (0.156 sec)\n",
      "INFO:tensorflow:global_step/sec: 748.403\n",
      "INFO:tensorflow:loss = 119.87339, step = 1401 (0.134 sec)\n",
      "INFO:tensorflow:global_step/sec: 861.17\n",
      "INFO:tensorflow:loss = 135.4017, step = 1501 (0.116 sec)\n",
      "INFO:tensorflow:global_step/sec: 772.762\n",
      "INFO:tensorflow:loss = 136.71281, step = 1601 (0.130 sec)\n",
      "INFO:tensorflow:global_step/sec: 728.821\n",
      "INFO:tensorflow:loss = 128.65451, step = 1701 (0.136 sec)\n",
      "INFO:tensorflow:global_step/sec: 830.861\n",
      "INFO:tensorflow:loss = 125.00557, step = 1801 (0.120 sec)\n",
      "INFO:tensorflow:global_step/sec: 758.052\n",
      "INFO:tensorflow:loss = 126.01176, step = 1901 (0.132 sec)\n",
      "INFO:tensorflow:global_step/sec: 693.904\n",
      "INFO:tensorflow:loss = 135.5976, step = 2001 (0.144 sec)\n",
      "INFO:tensorflow:global_step/sec: 775.91\n",
      "INFO:tensorflow:loss = 112.88376, step = 2101 (0.129 sec)\n",
      "INFO:tensorflow:global_step/sec: 803.316\n",
      "INFO:tensorflow:loss = 120.017715, step = 2201 (0.124 sec)\n",
      "INFO:tensorflow:global_step/sec: 709.774\n",
      "INFO:tensorflow:loss = 136.02936, step = 2301 (0.141 sec)\n",
      "INFO:tensorflow:global_step/sec: 795.886\n",
      "INFO:tensorflow:loss = 127.56346, step = 2401 (0.125 sec)\n",
      "INFO:tensorflow:global_step/sec: 784.253\n",
      "INFO:tensorflow:loss = 134.64053, step = 2501 (0.127 sec)\n",
      "INFO:tensorflow:global_step/sec: 908.143\n",
      "INFO:tensorflow:loss = 128.2854, step = 2601 (0.110 sec)\n",
      "INFO:tensorflow:global_step/sec: 736.604\n",
      "INFO:tensorflow:loss = 128.57788, step = 2701 (0.137 sec)\n",
      "INFO:tensorflow:global_step/sec: 778.017\n",
      "INFO:tensorflow:loss = 125.87808, step = 2801 (0.128 sec)\n",
      "INFO:tensorflow:global_step/sec: 956.324\n",
      "INFO:tensorflow:loss = 131.72226, step = 2901 (0.104 sec)\n",
      "INFO:tensorflow:global_step/sec: 986.962\n",
      "INFO:tensorflow:loss = 141.05397, step = 3001 (0.101 sec)\n",
      "INFO:tensorflow:global_step/sec: 816.511\n",
      "INFO:tensorflow:loss = 122.44016, step = 3101 (0.123 sec)\n",
      "INFO:tensorflow:global_step/sec: 886.55\n",
      "INFO:tensorflow:loss = 116.66919, step = 3201 (0.112 sec)\n",
      "INFO:tensorflow:global_step/sec: 838.512\n",
      "INFO:tensorflow:loss = 129.2395, step = 3301 (0.119 sec)\n",
      "INFO:tensorflow:global_step/sec: 777.375\n",
      "INFO:tensorflow:loss = 114.29987, step = 3401 (0.129 sec)\n",
      "INFO:tensorflow:global_step/sec: 888.375\n",
      "INFO:tensorflow:loss = 133.01627, step = 3501 (0.112 sec)\n",
      "INFO:tensorflow:global_step/sec: 773.366\n",
      "INFO:tensorflow:loss = 151.37082, step = 3601 (0.129 sec)\n",
      "INFO:tensorflow:global_step/sec: 770.052\n",
      "INFO:tensorflow:loss = 131.64653, step = 3701 (0.131 sec)\n",
      "INFO:tensorflow:global_step/sec: 790.358\n",
      "INFO:tensorflow:loss = 117.408356, step = 3801 (0.125 sec)\n",
      "INFO:tensorflow:global_step/sec: 748.542\n",
      "INFO:tensorflow:loss = 133.44273, step = 3901 (0.134 sec)\n",
      "INFO:tensorflow:global_step/sec: 766.325\n",
      "INFO:tensorflow:loss = 133.92929, step = 4001 (0.130 sec)\n",
      "INFO:tensorflow:global_step/sec: 786.732\n",
      "INFO:tensorflow:loss = 128.68245, step = 4101 (0.128 sec)\n",
      "INFO:tensorflow:global_step/sec: 559.372\n",
      "INFO:tensorflow:loss = 132.6409, step = 4201 (0.181 sec)\n",
      "INFO:tensorflow:global_step/sec: 493.518\n",
      "INFO:tensorflow:loss = 134.08916, step = 4301 (0.200 sec)\n",
      "INFO:tensorflow:global_step/sec: 608.598\n",
      "INFO:tensorflow:loss = 134.18596, step = 4401 (0.164 sec)\n",
      "INFO:tensorflow:global_step/sec: 762.26\n",
      "INFO:tensorflow:loss = 127.7661, step = 4501 (0.131 sec)\n",
      "INFO:tensorflow:global_step/sec: 427.826\n",
      "INFO:tensorflow:loss = 125.63481, step = 4601 (0.237 sec)\n",
      "INFO:tensorflow:global_step/sec: 410.516\n",
      "INFO:tensorflow:loss = 116.72297, step = 4701 (0.240 sec)\n",
      "INFO:tensorflow:global_step/sec: 593.814\n",
      "INFO:tensorflow:loss = 124.12555, step = 4801 (0.168 sec)\n",
      "INFO:tensorflow:global_step/sec: 713.888\n",
      "INFO:tensorflow:loss = 119.934364, step = 4901 (0.141 sec)\n",
      "INFO:tensorflow:Saving checkpoints for 5000 into /var/folders/s3/bf5fc9dd1c30gzgwqf9_h55w00hby8/T/tmpsti2u_y_/separable/model.ckpt.\n",
      "INFO:tensorflow:Loss for final step: 122.806694.\n",
      "INFO:tensorflow:Calling model_fn.\n",
      "INFO:tensorflow:Done calling model_fn.\n",
      "INFO:tensorflow:Starting evaluation at 2018-09-26-08:00:00\n",
      "INFO:tensorflow:Graph was finalized.\n",
      "INFO:tensorflow:Restoring parameters from /var/folders/s3/bf5fc9dd1c30gzgwqf9_h55w00hby8/T/tmpsti2u_y_/separable/model.ckpt-5000\n",
      "INFO:tensorflow:Running local_init_op.\n",
      "INFO:tensorflow:Done running local_init_op.\n",
      "INFO:tensorflow:Finished evaluation at 2018-09-26-08:00:00\n",
      "INFO:tensorflow:Saving dict for global step 5000: average_loss = 0.24988684, global_step = 5000, loss = 124.94342\n",
      "INFO:tensorflow:Saving 'checkpoint_path' summary for global step 5000: /var/folders/s3/bf5fc9dd1c30gzgwqf9_h55w00hby8/T/tmpsti2u_y_/separable/model.ckpt-5000\n"
     ]
    },
    {
     "data": {
      "text/plain": [
       "{'average_loss': 0.24988684, 'global_step': 5000, 'loss': 124.94342}"
      ]
     },
     "execution_count": 21,
     "metadata": {},
     "output_type": "execute_result"
    }
   ],
   "source": [
    "# Bucketize the latitude and longitude usig the `edges`\n",
    "latitude_bucket_fc = tf.feature_column.bucketized_column(\n",
    "    tf.feature_column.numeric_column('latitude'), \n",
    "    list(latitude_edges))\n",
    "\n",
    "longitude_bucket_fc = tf.feature_column.bucketized_column(\n",
    "    tf.feature_column.numeric_column('longitude'),\n",
    "    list(longitude_edges))\n",
    "\n",
    "fc = [\n",
    "    latitude_bucket_fc,\n",
    "    longitude_bucket_fc]\n",
    "\n",
    "# Build and train the Estimator.\n",
    "est = tf.estimator.LinearRegressor(fc, model_dir = os.path.join(logdir,'separable'))\n",
    "est.train(in_fn(train_ds), steps = 5000)\n",
    "est.evaluate(in_fn(test_ds))"
   ]
  },
  {
   "cell_type": "code",
   "execution_count": 22,
   "metadata": {
    "colab": {
     "autoexec": {
      "startup": false,
      "wait_interval": 0
     },
     "base_uri": "https://localhost:8080/",
     "height": 388,
     "output_extras": [
      {},
      {}
     ]
    },
    "colab_type": "code",
    "executionInfo": {
     "elapsed": 1152,
     "status": "ok",
     "timestamp": 1508962568631,
     "user": {
      "displayName": "Mark Daoust",
      "photoUrl": "//lh5.googleusercontent.com/-2bdrhkqhwhc/AAAAAAAAAAI/AAAAAAAAAYY/WEdKp4OXSFY/s50-c-k-no/photo.jpg",
      "userId": "106546680081284977106"
     },
     "user_tz": 240
    },
    "id": "j4lhsk5rk-Nc",
    "outputId": "f12b5ba5-1d28-46b2-b1d6-322a60ba40d9"
   },
   "outputs": [
    {
     "name": "stdout",
     "output_type": "stream",
     "text": [
      "INFO:tensorflow:Calling model_fn.\n",
      "INFO:tensorflow:Done calling model_fn.\n",
      "INFO:tensorflow:Graph was finalized.\n",
      "INFO:tensorflow:Restoring parameters from /var/folders/s3/bf5fc9dd1c30gzgwqf9_h55w00hby8/T/tmpsti2u_y_/separable/model.ckpt-5000\n",
      "INFO:tensorflow:Running local_init_op.\n",
      "INFO:tensorflow:Done running local_init_op.\n"
     ]
    },
    {
     "data": {
      "image/png": "[encoded data removed]",
      "text/plain": [
       "<Figure size 864x432 with 2 Axes>"
      ]
     },
     "metadata": {},
     "output_type": "display_data"
    }
   ],
   "source": [
    "plot_est(est)"
   ]
  },
  {
   "cell_type": "markdown",
   "metadata": {
    "colab_type": "text",
    "id": "G-QLbA0hKBbY"
   },
   "source": [
    "# Using `crossed_column` on its own.\n",
    "The single-cell \"holes\" in the figure are caused by cells which do not contain examples."
   ]
  },
  {
   "cell_type": "code",
   "execution_count": 23,
   "metadata": {
    "colab": {
     "autoexec": {
      "startup": false,
      "wait_interval": 0
     },
     "base_uri": "https://localhost:8080/",
     "height": 2010,
     "output_extras": [
      {},
      {}
     ]
    },
    "colab_type": "code",
    "executionInfo": {
     "elapsed": 11707,
     "status": "ok",
     "timestamp": 1508962619513,
     "user": {
      "displayName": "Mark Daoust",
      "photoUrl": "//lh5.googleusercontent.com/-2bdrhkqhwhc/AAAAAAAAAAI/AAAAAAAAAYY/WEdKp4OXSFY/s50-c-k-no/photo.jpg",
      "userId": "106546680081284977106"
     },
     "user_tz": 240
    },
    "id": "JoIXtYykKJei",
    "outputId": "08e45310-f006-454a-8bb4-4f14466c5013"
   },
   "outputs": [
    {
     "name": "stdout",
     "output_type": "stream",
     "text": [
      "INFO:tensorflow:Using default config.\n",
      "INFO:tensorflow:Using config: {'_model_dir': '/var/folders/s3/bf5fc9dd1c30gzgwqf9_h55w00hby8/T/tmpsti2u_y_/crossed', '_tf_random_seed': None, '_save_summary_steps': 100, '_save_checkpoints_steps': None, '_save_checkpoints_secs': 600, '_session_config': None, '_keep_checkpoint_max': 5, '_keep_checkpoint_every_n_hours': 10000, '_log_step_count_steps': 100, '_train_distribute': None, '_device_fn': None, '_service': None, '_cluster_spec': <tensorflow.python.training.server_lib.ClusterSpec object at 0x18292e7390>, '_task_type': 'worker', '_task_id': 0, '_global_id_in_cluster': 0, '_master': '', '_evaluation_master': '', '_is_chief': True, '_num_ps_replicas': 0, '_num_worker_replicas': 1}\n",
      "INFO:tensorflow:Calling model_fn.\n",
      "INFO:tensorflow:Done calling model_fn.\n",
      "INFO:tensorflow:Create CheckpointSaverHook.\n",
      "INFO:tensorflow:Graph was finalized.\n",
      "INFO:tensorflow:Running local_init_op.\n",
      "INFO:tensorflow:Done running local_init_op.\n",
      "INFO:tensorflow:Saving checkpoints for 0 into /var/folders/s3/bf5fc9dd1c30gzgwqf9_h55w00hby8/T/tmpsti2u_y_/crossed/model.ckpt.\n",
      "INFO:tensorflow:loss = 786.74805, step = 1\n",
      "INFO:tensorflow:global_step/sec: 312.995\n",
      "INFO:tensorflow:loss = 180.15993, step = 101 (0.322 sec)\n",
      "INFO:tensorflow:global_step/sec: 787.91\n",
      "INFO:tensorflow:loss = 163.587, step = 201 (0.125 sec)\n",
      "INFO:tensorflow:global_step/sec: 704.547\n",
      "INFO:tensorflow:loss = 169.13747, step = 301 (0.146 sec)\n",
      "INFO:tensorflow:global_step/sec: 576.808\n",
      "INFO:tensorflow:loss = 148.1843, step = 401 (0.170 sec)\n",
      "INFO:tensorflow:global_step/sec: 678.537\n",
      "INFO:tensorflow:loss = 148.38559, step = 501 (0.148 sec)\n",
      "INFO:tensorflow:global_step/sec: 707.273\n",
      "INFO:tensorflow:loss = 163.69556, step = 601 (0.141 sec)\n",
      "INFO:tensorflow:global_step/sec: 657.247\n",
      "INFO:tensorflow:loss = 148.18216, step = 701 (0.153 sec)\n",
      "INFO:tensorflow:global_step/sec: 595.437\n",
      "INFO:tensorflow:loss = 150.56018, step = 801 (0.168 sec)\n",
      "INFO:tensorflow:global_step/sec: 677.299\n",
      "INFO:tensorflow:loss = 136.31282, step = 901 (0.147 sec)\n",
      "INFO:tensorflow:global_step/sec: 726.534\n",
      "INFO:tensorflow:loss = 155.77171, step = 1001 (0.138 sec)\n",
      "INFO:tensorflow:global_step/sec: 406.037\n",
      "INFO:tensorflow:loss = 164.22809, step = 1101 (0.247 sec)\n",
      "INFO:tensorflow:global_step/sec: 504.91\n",
      "INFO:tensorflow:loss = 123.19426, step = 1201 (0.197 sec)\n",
      "INFO:tensorflow:global_step/sec: 517.103\n",
      "INFO:tensorflow:loss = 145.55151, step = 1301 (0.194 sec)\n",
      "INFO:tensorflow:global_step/sec: 439.885\n",
      "INFO:tensorflow:loss = 156.03683, step = 1401 (0.228 sec)\n",
      "INFO:tensorflow:global_step/sec: 671.709\n",
      "INFO:tensorflow:loss = 158.19821, step = 1501 (0.147 sec)\n",
      "INFO:tensorflow:global_step/sec: 740.928\n",
      "INFO:tensorflow:loss = 135.56956, step = 1601 (0.135 sec)\n",
      "INFO:tensorflow:global_step/sec: 638.973\n",
      "INFO:tensorflow:loss = 152.97038, step = 1701 (0.156 sec)\n",
      "INFO:tensorflow:global_step/sec: 691.908\n",
      "INFO:tensorflow:loss = 134.53639, step = 1801 (0.144 sec)\n",
      "INFO:tensorflow:global_step/sec: 739.902\n",
      "INFO:tensorflow:loss = 145.71613, step = 1901 (0.136 sec)\n",
      "INFO:tensorflow:global_step/sec: 766.787\n",
      "INFO:tensorflow:loss = 131.0465, step = 2001 (0.130 sec)\n",
      "INFO:tensorflow:global_step/sec: 827.631\n",
      "INFO:tensorflow:loss = 146.93523, step = 2101 (0.121 sec)\n",
      "INFO:tensorflow:global_step/sec: 827.581\n",
      "INFO:tensorflow:loss = 151.51749, step = 2201 (0.121 sec)\n",
      "INFO:tensorflow:global_step/sec: 614.693\n",
      "INFO:tensorflow:loss = 151.48721, step = 2301 (0.163 sec)\n",
      "INFO:tensorflow:global_step/sec: 604.152\n",
      "INFO:tensorflow:loss = 164.74548, step = 2401 (0.167 sec)\n",
      "INFO:tensorflow:global_step/sec: 485.482\n",
      "INFO:tensorflow:loss = 146.31702, step = 2501 (0.208 sec)\n",
      "INFO:tensorflow:global_step/sec: 590.179\n",
      "INFO:tensorflow:loss = 135.00473, step = 2601 (0.167 sec)\n",
      "INFO:tensorflow:global_step/sec: 539.377\n",
      "INFO:tensorflow:loss = 138.92325, step = 2701 (0.185 sec)\n",
      "INFO:tensorflow:global_step/sec: 577.801\n",
      "INFO:tensorflow:loss = 136.77652, step = 2801 (0.173 sec)\n",
      "INFO:tensorflow:global_step/sec: 414.859\n",
      "INFO:tensorflow:loss = 152.22781, step = 2901 (0.242 sec)\n",
      "INFO:tensorflow:global_step/sec: 555.336\n",
      "INFO:tensorflow:loss = 150.72626, step = 3001 (0.179 sec)\n",
      "INFO:tensorflow:global_step/sec: 768.723\n",
      "INFO:tensorflow:loss = 160.46931, step = 3101 (0.130 sec)\n",
      "INFO:tensorflow:global_step/sec: 840.096\n",
      "INFO:tensorflow:loss = 157.89828, step = 3201 (0.119 sec)\n",
      "INFO:tensorflow:global_step/sec: 761.094\n",
      "INFO:tensorflow:loss = 134.62325, step = 3301 (0.131 sec)\n",
      "INFO:tensorflow:global_step/sec: 803.522\n",
      "INFO:tensorflow:loss = 159.75552, step = 3401 (0.125 sec)\n",
      "INFO:tensorflow:global_step/sec: 616.767\n",
      "INFO:tensorflow:loss = 129.07835, step = 3501 (0.163 sec)\n",
      "INFO:tensorflow:global_step/sec: 431.04\n",
      "INFO:tensorflow:loss = 145.54605, step = 3601 (0.233 sec)\n",
      "INFO:tensorflow:global_step/sec: 534.325\n",
      "INFO:tensorflow:loss = 144.51588, step = 3701 (0.187 sec)\n",
      "INFO:tensorflow:global_step/sec: 584.659\n",
      "INFO:tensorflow:loss = 146.24799, step = 3801 (0.169 sec)\n",
      "INFO:tensorflow:global_step/sec: 560.143\n",
      "INFO:tensorflow:loss = 139.32574, step = 3901 (0.178 sec)\n",
      "INFO:tensorflow:global_step/sec: 681.926\n",
      "INFO:tensorflow:loss = 143.0915, step = 4001 (0.148 sec)\n",
      "INFO:tensorflow:global_step/sec: 584.15\n",
      "INFO:tensorflow:loss = 162.81339, step = 4101 (0.171 sec)\n",
      "INFO:tensorflow:global_step/sec: 581.3\n",
      "INFO:tensorflow:loss = 134.5328, step = 4201 (0.172 sec)\n",
      "INFO:tensorflow:global_step/sec: 514.456\n",
      "INFO:tensorflow:loss = 134.37059, step = 4301 (0.196 sec)\n",
      "INFO:tensorflow:global_step/sec: 595.133\n",
      "INFO:tensorflow:loss = 151.87115, step = 4401 (0.167 sec)\n",
      "INFO:tensorflow:global_step/sec: 459.067\n",
      "INFO:tensorflow:loss = 130.1221, step = 4501 (0.218 sec)\n",
      "INFO:tensorflow:global_step/sec: 566.775\n",
      "INFO:tensorflow:loss = 131.67645, step = 4601 (0.178 sec)\n",
      "INFO:tensorflow:global_step/sec: 573.726\n",
      "INFO:tensorflow:loss = 138.97162, step = 4701 (0.175 sec)\n",
      "INFO:tensorflow:global_step/sec: 637.678\n",
      "INFO:tensorflow:loss = 155.81444, step = 4801 (0.155 sec)\n",
      "INFO:tensorflow:global_step/sec: 582.89\n",
      "INFO:tensorflow:loss = 152.39288, step = 4901 (0.171 sec)\n",
      "INFO:tensorflow:Saving checkpoints for 5000 into /var/folders/s3/bf5fc9dd1c30gzgwqf9_h55w00hby8/T/tmpsti2u_y_/crossed/model.ckpt.\n",
      "INFO:tensorflow:Loss for final step: 136.8017.\n",
      "INFO:tensorflow:Calling model_fn.\n",
      "INFO:tensorflow:Done calling model_fn.\n",
      "INFO:tensorflow:Starting evaluation at 2018-09-26-08:00:13\n",
      "INFO:tensorflow:Graph was finalized.\n",
      "INFO:tensorflow:Restoring parameters from /var/folders/s3/bf5fc9dd1c30gzgwqf9_h55w00hby8/T/tmpsti2u_y_/crossed/model.ckpt-5000\n",
      "INFO:tensorflow:Running local_init_op.\n",
      "INFO:tensorflow:Done running local_init_op.\n",
      "INFO:tensorflow:Finished evaluation at 2018-09-26-08:00:13\n",
      "INFO:tensorflow:Saving dict for global step 5000: average_loss = 0.3270907, global_step = 5000, loss = 163.54536\n",
      "INFO:tensorflow:Saving 'checkpoint_path' summary for global step 5000: /var/folders/s3/bf5fc9dd1c30gzgwqf9_h55w00hby8/T/tmpsti2u_y_/crossed/model.ckpt-5000\n"
     ]
    },
    {
     "data": {
      "text/plain": [
       "{'average_loss': 0.3270907, 'global_step': 5000, 'loss': 163.54536}"
      ]
     },
     "execution_count": 23,
     "metadata": {},
     "output_type": "execute_result"
    }
   ],
   "source": [
    "# Cross the bucketized columns, using 5000 hash bins (for an average weight sharing of 2).\n",
    "crossed_lat_lon_fc = tf.feature_column.crossed_column(\n",
    "    [latitude_bucket_fc, longitude_bucket_fc], int(5e3))\n",
    "\n",
    "fc = [crossed_lat_lon_fc]\n",
    "\n",
    "# Build and train the Estimator.\n",
    "est = tf.estimator.LinearRegressor(fc, model_dir=os.path.join(logdir, 'crossed'))\n",
    "\n",
    "est.train(in_fn(train_ds), steps = 5000)\n",
    "est.evaluate(in_fn(test_ds))"
   ]
  },
  {
   "cell_type": "code",
   "execution_count": 24,
   "metadata": {
    "colab": {
     "autoexec": {
      "startup": false,
      "wait_interval": 0
     },
     "base_uri": "https://localhost:8080/",
     "height": 388,
     "output_extras": [
      {},
      {}
     ]
    },
    "colab_type": "code",
    "executionInfo": {
     "elapsed": 1112,
     "status": "ok",
     "timestamp": 1508962600110,
     "user": {
      "displayName": "Mark Daoust",
      "photoUrl": "//lh5.googleusercontent.com/-2bdrhkqhwhc/AAAAAAAAAAI/AAAAAAAAAYY/WEdKp4OXSFY/s50-c-k-no/photo.jpg",
      "userId": "106546680081284977106"
     },
     "user_tz": 240
    },
    "id": "R-itu9itLe0K",
    "outputId": "449a6d84-c6f5-4582-f8e3-0f007ae68e8a",
    "scrolled": false
   },
   "outputs": [
    {
     "name": "stdout",
     "output_type": "stream",
     "text": [
      "INFO:tensorflow:Calling model_fn.\n",
      "INFO:tensorflow:Done calling model_fn.\n",
      "INFO:tensorflow:Graph was finalized.\n",
      "INFO:tensorflow:Restoring parameters from /var/folders/s3/bf5fc9dd1c30gzgwqf9_h55w00hby8/T/tmpsti2u_y_/crossed/model.ckpt-5000\n",
      "INFO:tensorflow:Running local_init_op.\n",
      "INFO:tensorflow:Done running local_init_op.\n"
     ]
    },
    {
     "data": {
      "image/png": "[encoded data removed]",
      "text/plain": [
       "<Figure size 864x432 with 2 Axes>"
      ]
     },
     "metadata": {},
     "output_type": "display_data"
    }
   ],
   "source": [
    "plot_est(est)"
   ]
  },
  {
   "cell_type": "markdown",
   "metadata": {
    "colab_type": "text",
    "id": "KHJ_KsRUk-Nj"
   },
   "source": [
    "# Using raw categories with `crossed_column` \n",
    "The model generalizes better if it also has access to the raw categories, outside of the cross. "
   ]
  },
  {
   "cell_type": "code",
   "execution_count": 25,
   "metadata": {
    "colab": {
     "autoexec": {
      "startup": false,
      "wait_interval": 0
     },
     "base_uri": "https://localhost:8080/",
     "height": 2010,
     "output_extras": [
      {},
      {}
     ]
    },
    "colab_type": "code",
    "executionInfo": {
     "elapsed": 13233,
     "status": "ok",
     "timestamp": 1508963622115,
     "user": {
      "displayName": "Mark Daoust",
      "photoUrl": "//lh5.googleusercontent.com/-2bdrhkqhwhc/AAAAAAAAAAI/AAAAAAAAAYY/WEdKp4OXSFY/s50-c-k-no/photo.jpg",
      "userId": "106546680081284977106"
     },
     "user_tz": 240
    },
    "id": "ukHo6NrTk-Nk",
    "outputId": "12fba55e-c496-4007-b7b7-11b1aad38ba8"
   },
   "outputs": [
    {
     "name": "stdout",
     "output_type": "stream",
     "text": [
      "INFO:tensorflow:Using default config.\n",
      "INFO:tensorflow:Using config: {'_model_dir': '/var/folders/s3/bf5fc9dd1c30gzgwqf9_h55w00hby8/T/tmpsti2u_y_/both', '_tf_random_seed': None, '_save_summary_steps': 100, '_save_checkpoints_steps': None, '_save_checkpoints_secs': 600, '_session_config': None, '_keep_checkpoint_max': 5, '_keep_checkpoint_every_n_hours': 10000, '_log_step_count_steps': 100, '_train_distribute': None, '_device_fn': None, '_service': None, '_cluster_spec': <tensorflow.python.training.server_lib.ClusterSpec object at 0x10ad5b4a8>, '_task_type': 'worker', '_task_id': 0, '_global_id_in_cluster': 0, '_master': '', '_evaluation_master': '', '_is_chief': True, '_num_ps_replicas': 0, '_num_worker_replicas': 1}\n",
      "INFO:tensorflow:Calling model_fn.\n",
      "INFO:tensorflow:Done calling model_fn.\n",
      "INFO:tensorflow:Create CheckpointSaverHook.\n",
      "INFO:tensorflow:Graph was finalized.\n",
      "INFO:tensorflow:Running local_init_op.\n",
      "INFO:tensorflow:Done running local_init_op.\n",
      "INFO:tensorflow:Saving checkpoints for 0 into /var/folders/s3/bf5fc9dd1c30gzgwqf9_h55w00hby8/T/tmpsti2u_y_/both/model.ckpt.\n",
      "INFO:tensorflow:loss = 676.73346, step = 1\n",
      "INFO:tensorflow:global_step/sec: 222.974\n",
      "INFO:tensorflow:loss = 76.73468, step = 101 (0.450 sec)\n",
      "INFO:tensorflow:global_step/sec: 484.541\n",
      "INFO:tensorflow:loss = 65.145195, step = 201 (0.206 sec)\n",
      "INFO:tensorflow:global_step/sec: 454.25\n",
      "INFO:tensorflow:loss = 75.18873, step = 301 (0.220 sec)\n",
      "INFO:tensorflow:global_step/sec: 501.354\n",
      "INFO:tensorflow:loss = 64.15619, step = 401 (0.200 sec)\n",
      "INFO:tensorflow:global_step/sec: 541.579\n",
      "INFO:tensorflow:loss = 69.19498, step = 501 (0.187 sec)\n",
      "INFO:tensorflow:global_step/sec: 430.959\n",
      "INFO:tensorflow:loss = 69.205315, step = 601 (0.232 sec)\n",
      "INFO:tensorflow:global_step/sec: 481.907\n",
      "INFO:tensorflow:loss = 72.56627, step = 701 (0.206 sec)\n",
      "INFO:tensorflow:global_step/sec: 572.781\n",
      "INFO:tensorflow:loss = 79.56604, step = 801 (0.174 sec)\n",
      "INFO:tensorflow:global_step/sec: 545.324\n",
      "INFO:tensorflow:loss = 71.12561, step = 901 (0.184 sec)\n",
      "INFO:tensorflow:global_step/sec: 488.604\n",
      "INFO:tensorflow:loss = 62.948677, step = 1001 (0.205 sec)\n",
      "INFO:tensorflow:global_step/sec: 538.854\n",
      "INFO:tensorflow:loss = 75.02501, step = 1101 (0.185 sec)\n",
      "INFO:tensorflow:global_step/sec: 643.952\n",
      "INFO:tensorflow:loss = 76.4748, step = 1201 (0.155 sec)\n",
      "INFO:tensorflow:global_step/sec: 644.284\n",
      "INFO:tensorflow:loss = 62.301254, step = 1301 (0.156 sec)\n",
      "INFO:tensorflow:global_step/sec: 682.916\n",
      "INFO:tensorflow:loss = 73.08086, step = 1401 (0.146 sec)\n",
      "INFO:tensorflow:global_step/sec: 669.694\n",
      "INFO:tensorflow:loss = 60.517174, step = 1501 (0.150 sec)\n",
      "INFO:tensorflow:global_step/sec: 609.133\n",
      "INFO:tensorflow:loss = 69.546326, step = 1601 (0.164 sec)\n",
      "INFO:tensorflow:global_step/sec: 687.454\n",
      "INFO:tensorflow:loss = 68.25795, step = 1701 (0.146 sec)\n",
      "INFO:tensorflow:global_step/sec: 624.069\n",
      "INFO:tensorflow:loss = 65.31852, step = 1801 (0.160 sec)\n",
      "INFO:tensorflow:global_step/sec: 592.419\n",
      "INFO:tensorflow:loss = 67.0965, step = 1901 (0.169 sec)\n",
      "INFO:tensorflow:global_step/sec: 611.899\n",
      "INFO:tensorflow:loss = 69.55951, step = 2001 (0.164 sec)\n",
      "INFO:tensorflow:global_step/sec: 618.238\n",
      "INFO:tensorflow:loss = 69.374725, step = 2101 (0.162 sec)\n",
      "INFO:tensorflow:global_step/sec: 626.971\n",
      "INFO:tensorflow:loss = 76.42293, step = 2201 (0.160 sec)\n",
      "INFO:tensorflow:global_step/sec: 634.018\n",
      "INFO:tensorflow:loss = 57.77952, step = 2301 (0.157 sec)\n",
      "INFO:tensorflow:global_step/sec: 590.871\n",
      "INFO:tensorflow:loss = 64.825005, step = 2401 (0.170 sec)\n",
      "INFO:tensorflow:global_step/sec: 579.521\n",
      "INFO:tensorflow:loss = 64.71681, step = 2501 (0.172 sec)\n",
      "INFO:tensorflow:global_step/sec: 533.946\n",
      "INFO:tensorflow:loss = 65.89229, step = 2601 (0.188 sec)\n",
      "INFO:tensorflow:global_step/sec: 342.681\n",
      "INFO:tensorflow:loss = 71.685684, step = 2701 (0.291 sec)\n",
      "INFO:tensorflow:global_step/sec: 613.23\n",
      "INFO:tensorflow:loss = 62.645008, step = 2801 (0.166 sec)\n",
      "INFO:tensorflow:global_step/sec: 319.534\n",
      "INFO:tensorflow:loss = 62.635765, step = 2901 (0.310 sec)\n",
      "INFO:tensorflow:global_step/sec: 387.159\n",
      "INFO:tensorflow:loss = 63.729767, step = 3001 (0.259 sec)\n",
      "INFO:tensorflow:global_step/sec: 533.876\n",
      "INFO:tensorflow:loss = 72.713165, step = 3101 (0.187 sec)\n",
      "INFO:tensorflow:global_step/sec: 620.795\n",
      "INFO:tensorflow:loss = 58.082626, step = 3201 (0.161 sec)\n",
      "INFO:tensorflow:global_step/sec: 595.734\n",
      "INFO:tensorflow:loss = 63.07064, step = 3301 (0.168 sec)\n",
      "INFO:tensorflow:global_step/sec: 599.06\n",
      "INFO:tensorflow:loss = 68.966644, step = 3401 (0.167 sec)\n",
      "INFO:tensorflow:global_step/sec: 482.81\n",
      "INFO:tensorflow:loss = 78.250854, step = 3501 (0.207 sec)\n",
      "INFO:tensorflow:global_step/sec: 468.594\n",
      "INFO:tensorflow:loss = 82.37653, step = 3601 (0.214 sec)\n",
      "INFO:tensorflow:global_step/sec: 477.124\n",
      "INFO:tensorflow:loss = 68.09368, step = 3701 (0.209 sec)\n",
      "INFO:tensorflow:global_step/sec: 534.716\n",
      "INFO:tensorflow:loss = 73.166405, step = 3801 (0.189 sec)\n",
      "INFO:tensorflow:global_step/sec: 530.052\n",
      "INFO:tensorflow:loss = 57.97818, step = 3901 (0.186 sec)\n",
      "INFO:tensorflow:global_step/sec: 639.01\n",
      "INFO:tensorflow:loss = 67.849014, step = 4001 (0.157 sec)\n",
      "INFO:tensorflow:global_step/sec: 642.958\n",
      "INFO:tensorflow:loss = 69.59485, step = 4101 (0.155 sec)\n",
      "INFO:tensorflow:global_step/sec: 561.975\n",
      "INFO:tensorflow:loss = 68.33678, step = 4201 (0.178 sec)\n",
      "INFO:tensorflow:global_step/sec: 653.172\n",
      "INFO:tensorflow:loss = 74.425255, step = 4301 (0.153 sec)\n",
      "INFO:tensorflow:global_step/sec: 653.783\n",
      "INFO:tensorflow:loss = 61.452972, step = 4401 (0.153 sec)\n",
      "INFO:tensorflow:global_step/sec: 646.48\n",
      "INFO:tensorflow:loss = 63.680893, step = 4501 (0.155 sec)\n",
      "INFO:tensorflow:global_step/sec: 596.022\n",
      "INFO:tensorflow:loss = 64.39833, step = 4601 (0.168 sec)\n",
      "INFO:tensorflow:global_step/sec: 627.927\n",
      "INFO:tensorflow:loss = 58.514038, step = 4701 (0.159 sec)\n",
      "INFO:tensorflow:global_step/sec: 607.264\n",
      "INFO:tensorflow:loss = 65.14653, step = 4801 (0.164 sec)\n",
      "INFO:tensorflow:global_step/sec: 629.778\n",
      "INFO:tensorflow:loss = 57.690525, step = 4901 (0.159 sec)\n",
      "INFO:tensorflow:Saving checkpoints for 5000 into /var/folders/s3/bf5fc9dd1c30gzgwqf9_h55w00hby8/T/tmpsti2u_y_/both/model.ckpt.\n",
      "INFO:tensorflow:Loss for final step: 66.70339.\n",
      "INFO:tensorflow:Calling model_fn.\n",
      "INFO:tensorflow:Done calling model_fn.\n",
      "INFO:tensorflow:Starting evaluation at 2018-09-26-08:00:27\n",
      "INFO:tensorflow:Graph was finalized.\n",
      "INFO:tensorflow:Restoring parameters from /var/folders/s3/bf5fc9dd1c30gzgwqf9_h55w00hby8/T/tmpsti2u_y_/both/model.ckpt-5000\n",
      "INFO:tensorflow:Running local_init_op.\n",
      "INFO:tensorflow:Done running local_init_op.\n",
      "INFO:tensorflow:Finished evaluation at 2018-09-26-08:00:27\n",
      "INFO:tensorflow:Saving dict for global step 5000: average_loss = 0.14757521, global_step = 5000, loss = 73.78761\n",
      "INFO:tensorflow:Saving 'checkpoint_path' summary for global step 5000: /var/folders/s3/bf5fc9dd1c30gzgwqf9_h55w00hby8/T/tmpsti2u_y_/both/model.ckpt-5000\n"
     ]
    },
    {
     "data": {
      "text/plain": [
       "{'average_loss': 0.14757521, 'global_step': 5000, 'loss': 73.78761}"
      ]
     },
     "execution_count": 25,
     "metadata": {},
     "output_type": "execute_result"
    }
   ],
   "source": [
    "fc = [\n",
    "    latitude_bucket_fc,\n",
    "    longitude_bucket_fc,\n",
    "    crossed_lat_lon_fc]\n",
    "\n",
    "# Build and train the Estimator.\n",
    "est = tf.estimator.LinearRegressor(fc, model_dir=os.path.join(logdir, 'both'))\n",
    "est.train(in_fn(train_ds), steps = 5000)\n",
    "est.evaluate(in_fn(test_ds))"
   ]
  },
  {
   "cell_type": "code",
   "execution_count": 20,
   "metadata": {
    "colab": {
     "autoexec": {
      "startup": false,
      "wait_interval": 0
     },
     "base_uri": "https://localhost:8080/",
     "height": 388,
     "output_extras": [
      {},
      {}
     ]
    },
    "colab_type": "code",
    "executionInfo": {
     "elapsed": 1307,
     "status": "ok",
     "timestamp": 1508963623450,
     "user": {
      "displayName": "Mark Daoust",
      "photoUrl": "//lh5.googleusercontent.com/-2bdrhkqhwhc/AAAAAAAAAAI/AAAAAAAAAYY/WEdKp4OXSFY/s50-c-k-no/photo.jpg",
      "userId": "106546680081284977106"
     },
     "user_tz": 240
    },
    "id": "QjOwalvDk-Nm",
    "outputId": "f0a520a1-8253-494e-f3c8-2e6df168100a"
   },
   "outputs": [
    {
     "name": "stdout",
     "output_type": "stream",
     "text": [
      "INFO:tensorflow:Calling model_fn.\n",
      "INFO:tensorflow:Done calling model_fn.\n",
      "INFO:tensorflow:Graph was finalized.\n",
      "INFO:tensorflow:Restoring parameters from /var/folders/s3/bf5fc9dd1c30gzgwqf9_h55w00hby8/T/tmpfl899d6e/DNN/model.ckpt-5000\n",
      "INFO:tensorflow:Running local_init_op.\n",
      "INFO:tensorflow:Done running local_init_op.\n"
     ]
    },
    {
     "data": {
      "image/png": "[encoded data removed]",
      "text/plain": [
       "<Figure size 864x432 with 2 Axes>"
      ]
     },
     "metadata": {},
     "output_type": "display_data"
    }
   ],
   "source": [
    "plot_est(est)"
   ]
  },
  {
   "cell_type": "markdown",
   "metadata": {
    "colab_type": "text",
    "id": "Mx66A5ETk-Ns"
   },
   "source": [
    "# Open TensorBoard"
   ]
  },
  {
   "cell_type": "code",
   "execution_count": 30,
   "metadata": {
    "colab": {
     "autoexec": {
      "startup": false,
      "wait_interval": 0
     },
     "base_uri": "https://localhost:8080/",
     "height": 820,
     "output_extras": [
      {
       "item_id": 1
      }
     ]
    },
    "colab_type": "code",
    "executionInfo": {
     "elapsed": 478,
     "status": "ok",
     "timestamp": 1508986589529,
     "user": {
      "displayName": "Mark Daoust",
      "photoUrl": "//lh5.googleusercontent.com/-2bdrhkqhwhc/AAAAAAAAAAI/AAAAAAAAAYY/WEdKp4OXSFY/s50-c-k-no/photo.jpg",
      "userId": "106546680081284977106"
     },
     "user_tz": 240
    },
    "id": "fESYrJamm_Z5",
    "outputId": "d982a677-a217-491b-ef85-93f932e6afc5"
   },
   "outputs": [
    {
     "data": {
      "text/html": [
       "<iframe width=\"900\" height=\"800\" src=\"http://0.0.0.0:6006#scalars&_smoothingWeight=0.85\" frameborder=\"0\"></iframe>"
      ],
      "text/plain": [
       "<IPython.core.display.HTML object>"
      ]
     },
     "metadata": {},
     "output_type": "display_data"
    }
   ],
   "source": [
    "%%html\n",
    "<iframe width=\"900\" height=\"800\" src=\"http://0.0.0.0:6006#scalars&_smoothingWeight=0.85\" frameborder=\"0\"></iframe>"
   ]
  },
  {
   "cell_type": "code",
   "execution_count": null,
   "metadata": {
    "colab": {
     "autoexec": {
      "startup": false,
      "wait_interval": 0
     }
    },
    "colab_type": "code",
    "collapsed": true,
    "id": "_YHrJneHnA9K"
   },
   "outputs": [],
   "source": []
  }
 ],
 "metadata": {
  "colab": {
   "collapsed_sections": [],
   "default_view": {},
   "name": "Housing Prices (1).ipynb",
   "provenance": [],
   "version": "0.3.2",
   "views": {}
  },
  "kernelspec": {
   "display_name": "Python [conda env:tf19]",
   "language": "python",
   "name": "conda-env-tf19-py"
  },
  "language_info": {
   "codemirror_mode": {
    "name": "ipython",
    "version": 3
   },
   "file_extension": ".py",
   "mimetype": "text/x-python",
   "name": "python",
   "nbconvert_exporter": "python",
   "pygments_lexer": "ipython3",
   "version": "3.6.4"
  }
 },
 "nbformat": 4,
 "nbformat_minor": 1
}
