{
 "cells": [
  {
   "cell_type": "markdown",
   "metadata": {},
   "source": [
    "#### Step 1: Open below link to access Big Query Geo Wizard"
   ]
  },
  {
   "cell_type": "markdown",
   "metadata": {},
   "source": [
    "https://bigquerygeoviz.appspot.com"
   ]
  },
  {
   "cell_type": "markdown",
   "metadata": {},
   "source": [
    "#### Step 2: Copy paste below code in the data section and run"
   ]
  },
  {
   "cell_type": "code",
   "execution_count": null,
   "metadata": {},
   "outputs": [],
   "source": []
  },
  {
   "cell_type": "markdown",
   "metadata": {},
   "source": [
    "# Plot criminal activity in Austin"
   ]
  },
  {
   "cell_type": "markdown",
   "metadata": {},
   "source": [
    "SELECT description, ST_GeogPoint(longitude, latitude) AS g  FROM `bigquery-public-data.austin_crime.crime` WHERE latitude IS NOT NULL LIMIT 1000"
   ]
  },
  {
   "cell_type": "markdown",
   "metadata": {},
   "source": [
    "## Plot number of Bike Stands per Zip code"
   ]
  },
  {
   "cell_type": "markdown",
   "metadata": {},
   "source": [
    "#Checks if bike stand is within the zip code polygon\n",
    "#standardSQL\n",
    "\n",
    "-- how many stations within 1 mile range of each zip code?\n",
    "\n",
    "SELECT\n",
    "\n",
    "    zipcode zip,\n",
    "\n",
    "    ST_GeogFromText(ANY_VALUE(zip_codes.zipcode_geom)) polygon,\n",
    "\n",
    "    COUNT(*) bike_stations\n",
    "\n",
    "FROM\n",
    "\n",
    "    `bigquery-public-data.new_york.citibike_stations` bike_stations,\n",
    "\n",
    "    `bigquery-public-data.utility_us.zipcode_area` zip_codes\n",
    "\n",
    "WHERE ST_COVERS(\n",
    "\n",
    "         ST_GeogFromText(zip_codes.zipcode_geom),\n",
    "\n",
    "         ST_GeogPoint(bike_stations.longitude, bike_stations.latitude))\n",
    "\n",
    "GROUP BY zip\n",
    "\n",
    "ORDER BY bike_stations desc"
   ]
  },
  {
   "cell_type": "code",
   "execution_count": null,
   "metadata": {},
   "outputs": [],
   "source": []
  },
  {
   "cell_type": "code",
   "execution_count": null,
   "metadata": {},
   "outputs": [],
   "source": []
  },
  {
   "cell_type": "code",
   "execution_count": null,
   "metadata": {},
   "outputs": [],
   "source": []
  },
  {
   "cell_type": "code",
   "execution_count": null,
   "metadata": {},
   "outputs": [],
   "source": []
  }
 ],
 "metadata": {
  "kernelspec": {
   "display_name": "Python [conda env:tf19]",
   "language": "python",
   "name": "conda-env-tf19-py"
  },
  "language_info": {
   "codemirror_mode": {
    "name": "ipython",
    "version": 3
   },
   "file_extension": ".py",
   "mimetype": "text/x-python",
   "name": "python",
   "nbconvert_exporter": "python",
   "pygments_lexer": "ipython3",
   "version": "3.6.4"
  }
 },
 "nbformat": 4,
 "nbformat_minor": 2
}
